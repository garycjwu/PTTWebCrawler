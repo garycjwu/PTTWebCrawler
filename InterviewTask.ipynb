{
 "cells": [
  {
   "cell_type": "code",
   "execution_count": 1,
   "id": "7586ad72",
   "metadata": {},
   "outputs": [],
   "source": [
    "import requests\n",
    "from bs4 import BeautifulSoup"
   ]
  },
  {
   "cell_type": "code",
   "execution_count": 2,
   "id": "f6d66ebd",
   "metadata": {},
   "outputs": [],
   "source": [
    "cnn_url = 'https://edition.cnn.com/business/tech'\n",
    "\n",
    "headers = {'User-Agent': 'Mozilla/5.0 (Windows NT 10.0; Win64; x64) AppleWebKit/537.36 (KHTML, like Gecko) Chrome/77.0.3865.90 Safari/537.36'}"
   ]
  },
  {
   "cell_type": "code",
   "execution_count": 3,
   "id": "427654cc",
   "metadata": {},
   "outputs": [],
   "source": [
    "from selenium import webdriver\n",
    "import os\n",
    "import time\n",
    "from pprint import pprint\n",
    "from selenium.common.exceptions import NoSuchElementException"
   ]
  },
  {
   "cell_type": "code",
   "execution_count": 5,
   "id": "f5b6ec60",
   "metadata": {},
   "outputs": [
    {
     "name": "stdout",
     "output_type": "stream",
     "text": [
      "https://edition.cnn.com/2021/06/04/tech/facebook-antitrust-investigation-eu/index.html\n",
      "https://edition.cnn.com/2021/06/03/tech/ransomware-cyberattack-jbs-colonial-pipeline/index.html\n",
      "https://edition.cnn.com/2021/06/03/tech/microsoft-hart-intercivic-voting-security/index.html\n",
      "https://edition.cnn.com/2021/06/03/tech/citizen-public-safety/index.html\n",
      "https://edition.cnn.com/2021/06/03/tech/amazon-dsp-delivery/index.html\n",
      "https://edition.cnn.com/2021/06/02/tech/ustr-digital-services-tariffs/index.html\n",
      "https://edition.cnn.com/2021/06/01/tech/amazon-marijuana-time-off-task/index.html\n",
      "https://edition.cnn.com/2021/06/02/tech/silicon-valley-office-return-pandemic/index.html\n"
     ]
    }
   ],
   "source": [
    "chrome_driver_path = '/Users/GaryWu/Desktop/Gary/OnlineCourse/Udemy/100DaysOfCode/Codes/WebCrawler/chromedriver'\n",
    "\n",
    "driver = webdriver.Chrome(executable_path=chrome_driver_path)\n",
    "driver.get(url=cnn_url)\n",
    "\n",
    "time.sleep(3)\n",
    "top_stories = list()\n",
    "\n",
    "# Get the urls of top stories\n",
    "for i in range(1, 9):\n",
    "    target = driver.find_element_by_xpath(f'/html/body/div[6]/section[2]/div[6]/div/div[1]/ul/li[{i}]/article/div/div/h3/a')\n",
    "    url = target.get_attribute(\"href\")\n",
    "    print(url)\n",
    "    top_stories.append(url)\n",
    "\n",
    "\n",
    "driver.quit()"
   ]
  },
  {
   "cell_type": "code",
   "execution_count": 6,
   "id": "aaca0bdf",
   "metadata": {},
   "outputs": [
    {
     "name": "stdout",
     "output_type": "stream",
     "text": [
      "src: blob:https://edition.cnn.com/d6d9c246-8db1-4d5c-bdfb-dc7efbff5d81\n",
      "src: blob:https://edition.cnn.com/dda7120b-cec3-4d87-914a-ac12ff976a1b\n",
      "src: blob:https://edition.cnn.com/48bf99c4-8e58-497d-9b80-bac0ed690cfe\n",
      "src: blob:https://edition.cnn.com/cd7ba485-9d56-4805-a662-1ae96b6ab5e6\n",
      "Use another xpath to find start button.\n",
      "src: blob:https://edition.cnn.com/85060a27-614a-4cee-ba99-742dfa22a8fc\n",
      "src: blob:https://edition.cnn.com/eed91fc8-9164-43ea-9ca9-22be3e6ce4f6\n",
      "src: blob:https://edition.cnn.com/d8bfba51-306e-4198-aa61-d0409f24767b\n",
      "Use another xpath to find start button.\n",
      "src: blob:https://edition.cnn.com/a9958276-6cab-458d-8576-1e25a779df31\n",
      "['blob:https://edition.cnn.com/d6d9c246-8db1-4d5c-bdfb-dc7efbff5d81', 'blob:https://edition.cnn.com/dda7120b-cec3-4d87-914a-ac12ff976a1b', 'blob:https://edition.cnn.com/48bf99c4-8e58-497d-9b80-bac0ed690cfe', 'blob:https://edition.cnn.com/cd7ba485-9d56-4805-a662-1ae96b6ab5e6', 'blob:https://edition.cnn.com/85060a27-614a-4cee-ba99-742dfa22a8fc', 'blob:https://edition.cnn.com/eed91fc8-9164-43ea-9ca9-22be3e6ce4f6', 'blob:https://edition.cnn.com/d8bfba51-306e-4198-aa61-d0409f24767b', 'blob:https://edition.cnn.com/a9958276-6cab-458d-8576-1e25a779df31']\n"
     ]
    }
   ],
   "source": [
    "srcs = list()\n",
    "\n",
    "type_1_xpath = True\n",
    "start_button_xpaths = ['/html/body/div[5]/article/div[1]/div[2]/div[1]/div[1]/section/div/div/div[1]/div[2]/div[3]/div[2]/div[4]/div[2]/div/div/button',\n",
    "                      '/html/body/div[5]/article/div/div[2]/div[1]/div/div[1]/div[2]/div[3]/div[2]/div/div[2]/div/div/button']\n",
    "\n",
    "video_xpaths = ['/html/body/div[5]/article/div[1]/div[2]/div[1]/div[1]/section/div/div/div[1]/div[2]/div[3]/div[2]/div[4]/video[1]',\n",
    "               '/html/body/div[5]/article/div/div[2]/div[1]/div/div[1]/div[2]/div[3]/div[2]/div/video[1]']\n",
    "\n",
    "# Get the internal links of the video (Blob url)\n",
    "for story_url in top_stories:\n",
    "\n",
    "    driver = webdriver.Chrome(executable_path=chrome_driver_path)\n",
    "    driver.get(url=story_url)\n",
    "\n",
    "\n",
    "    time.sleep(3)\n",
    "    \n",
    "    try:\n",
    "        start_button = driver.find_element_by_xpath(start_button_xpaths[0])                             \n",
    "        start_button.click()\n",
    "    \n",
    "    except NoSuchElementException:\n",
    "        print('Use another xpath to find start button.')\n",
    "        type_1_xpath = False\n",
    "        start_button = driver.find_element_by_xpath(start_button_xpaths[1])\n",
    "        start_button.click()\n",
    "    \n",
    "    video_xpath = video_xpaths[0] if type_1_xpath else video_xpaths[1]\n",
    "    video = driver.find_element_by_xpath(video_xpath)\n",
    "    attrs = driver.execute_script('var items = {}; for (index = 0; index < arguments[0].attributes.length; ++index) { items[arguments[0].attributes[index].name] = arguments[0].attributes[index].value }; return items;', video)\n",
    "#     pprint(first_attrs)\n",
    "    src = video.get_attribute('src')\n",
    "    print(f'src: {src}')\n",
    "    srcs.append(video.get_attribute('src'))\n",
    "    \n",
    "    type_1_xpath = True\n",
    "    driver.quit()\n",
    "    \n",
    "print(srcs)"
   ]
  },
  {
   "cell_type": "markdown",
   "id": "17f7c35b",
   "metadata": {},
   "source": [
    "# 目前卡在不知道怎麼用程式(Python)來下載blob url 的影片"
   ]
  },
  {
   "cell_type": "code",
   "execution_count": null,
   "id": "51646fed",
   "metadata": {},
   "outputs": [],
   "source": []
  }
 ],
 "metadata": {
  "kernelspec": {
   "display_name": "Python 3",
   "language": "python",
   "name": "python3"
  },
  "language_info": {
   "codemirror_mode": {
    "name": "ipython",
    "version": 3
   },
   "file_extension": ".py",
   "mimetype": "text/x-python",
   "name": "python",
   "nbconvert_exporter": "python",
   "pygments_lexer": "ipython3",
   "version": "3.8.8"
  }
 },
 "nbformat": 4,
 "nbformat_minor": 5
}
