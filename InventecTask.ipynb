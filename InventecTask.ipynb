{
 "cells": [
  {
   "cell_type": "code",
   "execution_count": 1,
   "id": "f6d66ebd",
   "metadata": {},
   "outputs": [],
   "source": [
    "cnn_url = 'https://edition.cnn.com/business/tech'\n",
    "\n",
    "headers = {'User-Agent': 'Mozilla/5.0 (Windows NT 10.0; Win64; x64) AppleWebKit/537.36 (KHTML, like Gecko) Chrome/77.0.3865.90 Safari/537.36'}"
   ]
  },
  {
   "cell_type": "code",
   "execution_count": 2,
   "id": "427654cc",
   "metadata": {},
   "outputs": [],
   "source": [
    "from selenium import webdriver\n",
    "import os\n",
    "import time\n",
    "from pprint import pprint\n",
    "from selenium.common.exceptions import NoSuchElementException"
   ]
  },
  {
   "cell_type": "markdown",
   "id": "c931f0e9",
   "metadata": {},
   "source": [
    "# 利用Selenium，得到top stories的網址"
   ]
  },
  {
   "cell_type": "code",
   "execution_count": 3,
   "id": "f5b6ec60",
   "metadata": {},
   "outputs": [
    {
     "name": "stdout",
     "output_type": "stream",
     "text": [
      "https://edition.cnn.com/2021/06/06/uk/dating-apps-vaccination-perks-scli-gbr-intl/index.html\n",
      "https://edition.cnn.com/2021/06/06/tech/apple-wwdc-2021-preview/index.html\n",
      "https://edition.cnn.com/2021/06/06/tech/tank-man-tiananmen-square-microsoft/index.html\n",
      "https://edition.cnn.com/2021/06/04/tech/ufos-nasa-study-scn/index.html\n",
      "https://edition.cnn.com/2021/06/04/tech/nasa-russia-space-race-scn/index.html\n",
      "https://edition.cnn.com/2021/06/04/tech/facebook-politicians/index.html\n",
      "https://edition.cnn.com/2021/06/04/tech/facebook-antitrust-investigation-eu/index.html\n",
      "https://edition.cnn.com/2021/06/03/tech/ransomware-cyberattack-jbs-colonial-pipeline/index.html\n"
     ]
    }
   ],
   "source": [
    "chrome_driver_path = '/Users/GaryWu/Desktop/Gary/OnlineCourse/Udemy/100DaysOfCode/Codes/WebCrawler/chromedriver'\n",
    "\n",
    "driver = webdriver.Chrome(executable_path=chrome_driver_path)\n",
    "driver.get(url=cnn_url)\n",
    "\n",
    "time.sleep(3)\n",
    "top_stories = list()\n",
    "\n",
    "# Get the urls of top stories\n",
    "for i in range(1, 9):\n",
    "    target = driver.find_element_by_xpath(f'/html/body/div[6]/section[2]/div[6]/div/div[1]/ul/li[{i}]/article/div/div/h3/a')\n",
    "    url = target.get_attribute(\"href\")\n",
    "    print(url)\n",
    "    top_stories.append(url)\n",
    "\n",
    "\n",
    "driver.quit()"
   ]
  },
  {
   "cell_type": "markdown",
   "id": "b3f45eda",
   "metadata": {},
   "source": [
    "# 進入每個top story，從中取得影片的url"
   ]
  },
  {
   "cell_type": "code",
   "execution_count": 6,
   "id": "aaca0bdf",
   "metadata": {},
   "outputs": [
    {
     "name": "stdout",
     "output_type": "stream",
     "text": [
      "Use another xpath to find start button.\n",
      "Skip this story: https://edition.cnn.com/2021/06/06/uk/dating-apps-vaccination-perks-scli-gbr-intl/index.html\n",
      "src: blob:https://edition.cnn.com/167653d0-f9cb-4863-a84a-cbb8f0ef47ac\n",
      "src: blob:https://edition.cnn.com/2ae9ee26-7bc0-469e-9dac-f8be1acdc98d\n",
      "src: blob:https://edition.cnn.com/d5c2cc06-208e-4cff-b84b-8c305b254b87\n",
      "src: blob:https://edition.cnn.com/469a86d6-810c-4514-9b05-910fe3e0b38d\n",
      "src: blob:https://edition.cnn.com/8c399376-e608-4f7f-a6d2-47e8ea63d038\n",
      "src: blob:https://edition.cnn.com/48ed294e-b5dd-4012-bf3c-9494ed396cfb\n",
      "src: blob:https://edition.cnn.com/ac50b562-e23c-40d5-b1ff-dad33d643d72\n"
     ]
    }
   ],
   "source": [
    "srcs = list()\n",
    "\n",
    "type_1_xpath = True\n",
    "start_button_xpaths = ['/html/body/div[5]/article/div[1]/div[2]/div[1]/div[1]/section/div/div/div[1]/div[2]/div[3]/div[2]/div[4]/div[2]/div/div/button',\n",
    "                      '/html/body/div[5]/article/div/div[2]/div[1]/div/div[1]/div[2]/div[3]/div[2]/div/div[2]/div/div/button']\n",
    "                      \n",
    "video_xpaths = ['/html/body/div[5]/article/div[1]/div[2]/div[1]/div[1]/section/div/div/div[1]/div[2]/div[3]/div[2]/div[4]/video[1]',\n",
    "                '/html/body/div[5]/article/div/div[2]/div[1]/div/div[1]/div[2]/div[3]/div[2]/div/video[1]']\n",
    "               \n",
    "                \n",
    "# Get the internal links of the video (Blob url)\n",
    "for story_url in top_stories:\n",
    "\n",
    "    driver = webdriver.Chrome(executable_path=chrome_driver_path)\n",
    "    driver.get(url=story_url)\n",
    "\n",
    "\n",
    "    time.sleep(3)\n",
    "    \n",
    "    try:\n",
    "        start_button = driver.find_element_by_xpath(start_button_xpaths[0])                             \n",
    "        start_button.click()\n",
    "    \n",
    "    except NoSuchElementException:\n",
    "        print('Use another xpath to find start button.')\n",
    "        type_1_xpath = False\n",
    "        \n",
    "        try:\n",
    "            start_button = driver.find_element_by_xpath(start_button_xpaths[1])\n",
    "            start_button.click()\n",
    "        except NoSuchElementException:\n",
    "            print(f'Skip this story: {story_url}')\n",
    "            type_1_xpath = True\n",
    "            driver.quit()\n",
    "            continue\n",
    "    \n",
    "    video_xpath = video_xpaths[0] if type_1_xpath else video_xpaths[1]\n",
    "    video = driver.find_element_by_xpath(video_xpath)\n",
    "    attrs = driver.execute_script('var items = {}; for (index = 0; index < arguments[0].attributes.length; ++index) { items[arguments[0].attributes[index].name] = arguments[0].attributes[index].value }; return items;', video)\n",
    "#     pprint(first_attrs)\n",
    "    src = video.get_attribute('src')\n",
    "    print(f'src: {src}')\n",
    "    srcs.append(video.get_attribute('src'))\n",
    "    \n",
    "    type_1_xpath = True\n",
    "    driver.quit()"
   ]
  },
  {
   "cell_type": "code",
   "execution_count": 7,
   "id": "45476866",
   "metadata": {},
   "outputs": [
    {
     "name": "stdout",
     "output_type": "stream",
     "text": [
      "All srcs: \n",
      " ['blob:https://edition.cnn.com/167653d0-f9cb-4863-a84a-cbb8f0ef47ac', 'blob:https://edition.cnn.com/2ae9ee26-7bc0-469e-9dac-f8be1acdc98d', 'blob:https://edition.cnn.com/d5c2cc06-208e-4cff-b84b-8c305b254b87', 'blob:https://edition.cnn.com/469a86d6-810c-4514-9b05-910fe3e0b38d', 'blob:https://edition.cnn.com/8c399376-e608-4f7f-a6d2-47e8ea63d038', 'blob:https://edition.cnn.com/48ed294e-b5dd-4012-bf3c-9494ed396cfb', 'blob:https://edition.cnn.com/ac50b562-e23c-40d5-b1ff-dad33d643d72']\n"
     ]
    }
   ],
   "source": [
    "print(f'All srcs: \\n {srcs}')"
   ]
  },
  {
   "cell_type": "markdown",
   "id": "1b2eabfb",
   "metadata": {},
   "source": [
    "# 目前還沒辦法成功使用Python程式化的下載blob url 影片"
   ]
  },
  {
   "cell_type": "markdown",
   "id": "9c3d64f5",
   "metadata": {},
   "source": [
    "# 假設影片下載成功，可透過下列程式碼來轉換出文字版的影片內容"
   ]
  },
  {
   "cell_type": "code",
   "execution_count": 9,
   "id": "3a130828",
   "metadata": {},
   "outputs": [],
   "source": [
    "import urllib.request\n",
    "import requests\n",
    "url_link = 'https://turneradstoedc.akamaized.net/m/1/48804/13/10244237/INTL_139763_Hyundai_30s_210504_EU_1620290333_3060848_523.mp4'\n",
    "\n",
    "r = requests.get(url_link, stream = True)\n",
    "file_name = 'test_video.mp4'\n",
    "  \n",
    "with open(file_name,\"wb\") as f:\n",
    "    for chunk in r.iter_content(chunk_size=1024):\n",
    "  \n",
    "         # writing one chunk at a time to pdf file\n",
    "         if chunk:\n",
    "             f.write(chunk)"
   ]
  },
  {
   "cell_type": "code",
   "execution_count": 10,
   "id": "b21b7204",
   "metadata": {},
   "outputs": [],
   "source": [
    "import speech_recognition as sr \n",
    "import moviepy.editor as mp"
   ]
  },
  {
   "cell_type": "code",
   "execution_count": 11,
   "id": "d4ee1f61",
   "metadata": {},
   "outputs": [
    {
     "name": "stderr",
     "output_type": "stream",
     "text": [
      "chunk:  36%|███▋      | 243/667 [00:00<00:00, 2427.65it/s, now=None]"
     ]
    },
    {
     "name": "stdout",
     "output_type": "stream",
     "text": [
      "MoviePy - Writing audio in converted.wav\n"
     ]
    },
    {
     "name": "stderr",
     "output_type": "stream",
     "text": [
      "                                                                    "
     ]
    },
    {
     "name": "stdout",
     "output_type": "stream",
     "text": [
      "MoviePy - Done.\n"
     ]
    },
    {
     "name": "stderr",
     "output_type": "stream",
     "text": [
      "\r"
     ]
    }
   ],
   "source": [
    "clip = mp.VideoFileClip(r'test_video.mp4') \n",
    "clip.audio.write_audiofile(r'converted.wav')"
   ]
  },
  {
   "cell_type": "code",
   "execution_count": 12,
   "id": "e678816b",
   "metadata": {},
   "outputs": [],
   "source": [
    "r = sr.Recognizer()\n",
    "audio = sr.AudioFile(\"converted.wav\")\n",
    "\n",
    "with audio as source:\n",
    "    audio_file = r.record(source)\n",
    "result = r.recognize_google(audio_file)"
   ]
  },
  {
   "cell_type": "code",
   "execution_count": 13,
   "id": "c82ee687",
   "metadata": {},
   "outputs": [
    {
     "name": "stdout",
     "output_type": "stream",
     "text": [
      "The Speech is ready!\n"
     ]
    }
   ],
   "source": [
    "# Exporting the Result\n",
    "with open('recognized.txt',mode ='w') as file: \n",
    "    file.write(\"Recognized Speech:\") \n",
    "    file.write(\"\\n\") \n",
    "    file.write(result) \n",
    "    print(\"The Speech is ready!\")"
   ]
  },
  {
   "cell_type": "code",
   "execution_count": 14,
   "id": "53a9f877",
   "metadata": {},
   "outputs": [
    {
     "name": "stdout",
     "output_type": "stream",
     "text": [
      "totally when you were little we decided to go on a great adventure and made a tiny traveling home it is being so wonderful living simply donating toys. Finding magic and natural Trisha this life will always hold the most Cherished Memories Kate listening to your heart and never lose your spirit of Adventure\n"
     ]
    }
   ],
   "source": [
    "print(result)"
   ]
  },
  {
   "cell_type": "code",
   "execution_count": null,
   "id": "daf7add9",
   "metadata": {},
   "outputs": [],
   "source": []
  }
 ],
 "metadata": {
  "kernelspec": {
   "display_name": "Python 3",
   "language": "python",
   "name": "python3"
  },
  "language_info": {
   "codemirror_mode": {
    "name": "ipython",
    "version": 3
   },
   "file_extension": ".py",
   "mimetype": "text/x-python",
   "name": "python",
   "nbconvert_exporter": "python",
   "pygments_lexer": "ipython3",
   "version": "3.8.8"
  }
 },
 "nbformat": 4,
 "nbformat_minor": 5
}
